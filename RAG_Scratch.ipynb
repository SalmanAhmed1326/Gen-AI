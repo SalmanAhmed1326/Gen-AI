{
 "cells": [
  {
   "cell_type": "code",
   "execution_count": 1,
   "metadata": {
    "id": "dZSPSGEOxNmW"
   },
   "outputs": [],
   "source": [
    "documents = [\"Data Science is a field of learning and growing in experience\",\n",
    "    \"Transdermal Drug Delivery System (TDDS) allows drugs to be absorbed through the skin, offering a non-invasive solution.\",\n",
    "    \"Tulsi, Neem, and Desi Gulab have historically been used in Ayurvedic medicine for wellness and health.\",\n",
    "    \"Sustainable materials, such as eco-friendly foam, are vital for environmentally safe pillow production.\",\n",
    "    \"Proper validation tests like flammability compliance and ergonomic evaluation enhance product safety.\",\n",
    "    \"Incorporating tribal expertise, such as cultivating lemongrass and lavender, supports local communities.\"\n",
    "]"
   ]
  },
  {
   "cell_type": "code",
   "execution_count": 2,
   "metadata": {
    "colab": {
     "base_uri": "https://localhost:8080/"
    },
    "id": "hcbb1KEdxwyU",
    "outputId": "d7c6ea33-56c1-4467-f39f-2aa30c918431"
   },
   "outputs": [
    {
     "name": "stdout",
     "output_type": "stream",
     "text": [
      "['Data Science is a field of learning and growing in experience', 'Transdermal Drug Delivery System (TDDS) allows drugs to be absorbed through the skin, offering a non-invasive solution.', 'Tulsi, Neem, and Desi Gulab have historically been used in Ayurvedic medicine for wellness and health.', 'Sustainable materials, such as eco-friendly foam, are vital for environmentally safe pillow production.', 'Proper validation tests like flammability compliance and ergonomic evaluation enhance product safety.', 'Incorporating tribal expertise, such as cultivating lemongrass and lavender, supports local communities.']\n"
     ]
    }
   ],
   "source": [
    "print(documents)"
   ]
  },
  {
   "cell_type": "code",
   "execution_count": 3,
   "metadata": {
    "id": "nR4HSXWqxyYN"
   },
   "outputs": [],
   "source": [
    "user_query='I am a data scientist with 2 years of hands on experience.Ai is new era of experience'\n",
    "document='Data science is the study of data to extract meaningful insights for business and it required experience to work in this field'"
   ]
  },
  {
   "cell_type": "code",
   "execution_count": 4,
   "metadata": {
    "id": "P3MpndM5y2pK"
   },
   "outputs": [],
   "source": [
    "query_token=user_query.lower().split(\" \")\n",
    "document_token=document.lower().split(\" \")"
   ]
  },
  {
   "cell_type": "code",
   "execution_count": 5,
   "metadata": {
    "colab": {
     "base_uri": "https://localhost:8080/"
    },
    "id": "xdWpGEWEzDXk",
    "outputId": "d2c53d44-bd2c-491a-dee1-688715bda346"
   },
   "outputs": [
    {
     "data": {
      "text/plain": [
       "['i',\n",
       " 'am',\n",
       " 'a',\n",
       " 'data',\n",
       " 'scientist',\n",
       " 'with',\n",
       " '2',\n",
       " 'years',\n",
       " 'of',\n",
       " 'hands',\n",
       " 'on',\n",
       " 'experience.ai',\n",
       " 'is',\n",
       " 'new',\n",
       " 'era',\n",
       " 'of',\n",
       " 'experience']"
      ]
     },
     "execution_count": 5,
     "metadata": {},
     "output_type": "execute_result"
    }
   ],
   "source": [
    "query_token"
   ]
  },
  {
   "cell_type": "code",
   "execution_count": 6,
   "metadata": {
    "id": "SRucXXQTzFiJ"
   },
   "outputs": [],
   "source": [
    "from collections import Counter\n",
    "import math"
   ]
  },
  {
   "cell_type": "code",
   "execution_count": 7,
   "metadata": {
    "id": "yN0IW85DzLGP"
   },
   "outputs": [],
   "source": [
    "#to get the frequency of words let use counter method and this is called embedding\n",
    "\n",
    "query_counter=Counter(query_token)\n",
    "document_counter=Counter(document_token)"
   ]
  },
  {
   "cell_type": "code",
   "execution_count": 8,
   "metadata": {
    "colab": {
     "base_uri": "https://localhost:8080/"
    },
    "id": "ktWPAFrqzf1-",
    "outputId": "452c64c2-6fca-4c00-d37b-150bd9b0e547"
   },
   "outputs": [
    {
     "data": {
      "text/plain": [
       "(Counter({'of': 2,\n",
       "          'i': 1,\n",
       "          'am': 1,\n",
       "          'a': 1,\n",
       "          'data': 1,\n",
       "          'scientist': 1,\n",
       "          'with': 1,\n",
       "          '2': 1,\n",
       "          'years': 1,\n",
       "          'hands': 1,\n",
       "          'on': 1,\n",
       "          'experience.ai': 1,\n",
       "          'is': 1,\n",
       "          'new': 1,\n",
       "          'era': 1,\n",
       "          'experience': 1}),\n",
       " Counter({'data': 2,\n",
       "          'to': 2,\n",
       "          'science': 1,\n",
       "          'is': 1,\n",
       "          'the': 1,\n",
       "          'study': 1,\n",
       "          'of': 1,\n",
       "          'extract': 1,\n",
       "          'meaningful': 1,\n",
       "          'insights': 1,\n",
       "          'for': 1,\n",
       "          'business': 1,\n",
       "          'and': 1,\n",
       "          'it': 1,\n",
       "          'required': 1,\n",
       "          'experience': 1,\n",
       "          'work': 1,\n",
       "          'in': 1,\n",
       "          'this': 1,\n",
       "          'field': 1}))"
      ]
     },
     "execution_count": 8,
     "metadata": {},
     "output_type": "execute_result"
    }
   ],
   "source": [
    "query_counter,document_counter"
   ]
  },
  {
   "cell_type": "code",
   "execution_count": 9,
   "metadata": {
    "id": "LjrGXnfZzj0l"
   },
   "outputs": [],
   "source": [
    "lst=[]\n",
    "\n",
    "for token in query_counter.keys():\n",
    "  lst.append(query_counter[token])\n"
   ]
  },
  {
   "cell_type": "code",
   "execution_count": 10,
   "metadata": {
    "colab": {
     "base_uri": "https://localhost:8080/"
    },
    "id": "9AYmvmkJ0U_5",
    "outputId": "b7d9755d-9add-4b8b-d4b0-4d3f59b0da09"
   },
   "outputs": [
    {
     "data": {
      "text/plain": [
       "[1, 1, 1, 1, 1, 1, 1, 1, 2, 1, 1, 1, 1, 1, 1, 1]"
      ]
     },
     "execution_count": 10,
     "metadata": {},
     "output_type": "execute_result"
    }
   ],
   "source": [
    "lst"
   ]
  },
  {
   "cell_type": "code",
   "execution_count": 11,
   "metadata": {
    "id": "kn99OEVf0dYq"
   },
   "outputs": [],
   "source": [
    "lst2=[]\n",
    "\n",
    "for tokens in document_counter.keys():\n",
    "  lst2.append(document_counter[tokens])"
   ]
  },
  {
   "cell_type": "code",
   "execution_count": 12,
   "metadata": {
    "colab": {
     "base_uri": "https://localhost:8080/"
    },
    "id": "sTWGk6kk0lLU",
    "outputId": "d4d26c29-198d-4fee-b6b3-07c97f32cd1e"
   },
   "outputs": [
    {
     "data": {
      "text/plain": [
       "[2, 1, 1, 1, 1, 1, 2, 1, 1, 1, 1, 1, 1, 1, 1, 1, 1, 1, 1, 1]"
      ]
     },
     "execution_count": 12,
     "metadata": {},
     "output_type": "execute_result"
    }
   ],
   "source": [
    "lst2"
   ]
  },
  {
   "cell_type": "code",
   "execution_count": 13,
   "metadata": {
    "colab": {
     "base_uri": "https://localhost:8080/"
    },
    "id": "F7LALqqH0wet",
    "outputId": "3fcb2a00-df5f-4e40-84c1-d13eb60ea3c6"
   },
   "outputs": [
    {
     "name": "stdout",
     "output_type": "stream",
     "text": [
      "experience\n",
      "of\n",
      "data\n",
      "is\n"
     ]
    }
   ],
   "source": [
    "for tokens in query_counter.keys() & document_counter.keys():\n",
    "  print(tokens)"
   ]
  },
  {
   "cell_type": "code",
   "execution_count": 14,
   "metadata": {
    "id": "yv6xU_1V0-Rt"
   },
   "outputs": [],
   "source": [
    "mylist=[]\n",
    "for tokens in query_counter.keys() & document_counter.keys():\n",
    "  mylist.append( query_counter[tokens]*document_counter[tokens] )"
   ]
  },
  {
   "cell_type": "code",
   "execution_count": 15,
   "metadata": {
    "colab": {
     "base_uri": "https://localhost:8080/"
    },
    "id": "3odRNdB45wpG",
    "outputId": "69cf0003-ce5f-449f-9ec9-6ac19f711eca"
   },
   "outputs": [
    {
     "data": {
      "text/plain": [
       "6"
      ]
     },
     "execution_count": 15,
     "metadata": {},
     "output_type": "execute_result"
    }
   ],
   "source": [
    "dot=sum(mylist)\n",
    "dot"
   ]
  },
  {
   "cell_type": "code",
   "execution_count": 16,
   "metadata": {
    "colab": {
     "base_uri": "https://localhost:8080/"
    },
    "id": "3Vo5Acfc5yno",
    "outputId": "41e53c71-718b-4e93-bad0-43a64b1d36f7"
   },
   "outputs": [
    {
     "name": "stdout",
     "output_type": "stream",
     "text": [
      "4.358898943540674 5.0990195135927845\n"
     ]
    }
   ],
   "source": [
    "query_magnitude=math.sqrt(sum(query_counter[tokens]**2 for tokens in query_counter.keys()))\n",
    "document_magnitude=math.sqrt(sum(document_counter[tokens]**2 for tokens in document_counter.keys()))\n",
    "print(query_magnitude,document_magnitude)"
   ]
  },
  {
   "cell_type": "code",
   "execution_count": 17,
   "metadata": {
    "colab": {
     "base_uri": "https://localhost:8080/"
    },
    "id": "s7ywR9L86n9V",
    "outputId": "a9b3d7c3-086e-41fd-f34a-275d62980c8f"
   },
   "outputs": [
    {
     "data": {
      "text/plain": [
       "0.2699527623995085"
      ]
     },
     "execution_count": 17,
     "metadata": {},
     "output_type": "execute_result"
    }
   ],
   "source": [
    "similarity=dot/(query_magnitude*document_magnitude)\n",
    "similarity"
   ]
  },
  {
   "cell_type": "code",
   "execution_count": 26,
   "metadata": {
    "id": "4a6qJRWE6zd6"
   },
   "outputs": [],
   "source": [
    "def cosine_similarity(query,document):\n",
    "  query_token=user_query.lower().split(\" \")\n",
    "  document_token=document.lower().split(\" \")\n",
    "\n",
    "  query_counter=Counter(query_token)\n",
    "  document_counter=Counter(document_token)\n",
    "\n",
    "  lst=[]\n",
    "\n",
    "  for token in query_counter.keys():\n",
    "    lst.append(query_counter[token])\n",
    "\n",
    "  lst2=[]\n",
    "\n",
    "  for tokens in document_counter.keys():\n",
    "    lst2.append(document_counter[tokens])\n",
    "\n",
    "\n",
    "  mylist=[]\n",
    "  for tokens in query_counter.keys() & document_counter.keys():\n",
    "    mylist.append( query_counter[tokens]*document_counter[tokens] )\n",
    "\n",
    "\n",
    "  dot=sum(mylist)\n",
    "  query_magnitude=math.sqrt(sum(query_counter[tokens]**2 for tokens in query_counter.keys()))\n",
    "  document_magnitude=math.sqrt(sum(document_counter[tokens]**2 for tokens in document_counter.keys()))\n",
    "\n",
    "\n",
    "  similarity=dot/(query_magnitude*document_magnitude)\n",
    "  return(similarity)\n",
    "\n"
   ]
  },
  {
   "cell_type": "code",
   "execution_count": 27,
   "metadata": {
    "colab": {
     "base_uri": "https://localhost:8080/"
    },
    "id": "8vWSLWHf77Jy",
    "outputId": "e1bfb108-90ea-4912-b1b8-2f311843099c"
   },
   "outputs": [
    {
     "data": {
      "text/plain": [
       "0.2699527623995085"
      ]
     },
     "execution_count": 27,
     "metadata": {},
     "output_type": "execute_result"
    }
   ],
   "source": [
    "cosine_similarity(user_query,document)"
   ]
  },
  {
   "cell_type": "code",
   "execution_count": 28,
   "metadata": {
    "id": "n8n3ZjpB9Bfa"
   },
   "outputs": [],
   "source": [
    "def return_response(query,Corpus):\n",
    "  similarities=[]\n",
    "  for document in Corpus:\n",
    "    similarities.append(cosine_similarity(query,document))\n",
    "  return Corpus[similarities.index(max(similarities))]\n",
    "\n"
   ]
  },
  {
   "cell_type": "code",
   "execution_count": 29,
   "metadata": {
    "colab": {
     "base_uri": "https://localhost:8080/",
     "height": 349
    },
    "id": "CiRTehaaQxUm",
    "outputId": "ca0c4aa9-9d81-471a-c7c3-28c97090b9f1"
   },
   "outputs": [
    {
     "name": "stdout",
     "output_type": "stream",
     "text": [
      "Data Science is a field of learning and growing in experience\n"
     ]
    }
   ],
   "source": [
    "print(return_response(user_query,documents))"
   ]
  },
  {
   "cell_type": "code",
   "execution_count": 30,
   "metadata": {
    "colab": {
     "base_uri": "https://localhost:8080/",
     "height": 349
    },
    "id": "9kCa-yZF9QqC",
    "outputId": "90851804-d2cb-4ddd-ee0e-6c3da665f38c"
   },
   "outputs": [],
   "source": [
    "relevant_document=return_response(user_query, documents)"
   ]
  },
  {
   "cell_type": "code",
   "execution_count": 31,
   "metadata": {
    "id": "dn2qhP5fL8Jy"
   },
   "outputs": [],
   "source": [
    "user_input=\"Hii i am a data scientist\""
   ]
  },
  {
   "cell_type": "code",
   "execution_count": 34,
   "metadata": {},
   "outputs": [
    {
     "name": "stdout",
     "output_type": "stream",
     "text": [
      "Collecting requests\n",
      "  Downloading requests-2.32.3-py3-none-any.whl.metadata (4.6 kB)\n",
      "Collecting charset-normalizer<4,>=2 (from requests)\n",
      "  Downloading charset_normalizer-3.4.0-cp310-cp310-manylinux_2_17_x86_64.manylinux2014_x86_64.whl.metadata (34 kB)\n",
      "Collecting idna<4,>=2.5 (from requests)\n",
      "  Downloading idna-3.10-py3-none-any.whl.metadata (10 kB)\n",
      "Collecting urllib3<3,>=1.21.1 (from requests)\n",
      "  Downloading urllib3-2.2.3-py3-none-any.whl.metadata (6.5 kB)\n",
      "Collecting certifi>=2017.4.17 (from requests)\n",
      "  Downloading certifi-2024.8.30-py3-none-any.whl.metadata (2.2 kB)\n",
      "Downloading requests-2.32.3-py3-none-any.whl (64 kB)\n",
      "Downloading certifi-2024.8.30-py3-none-any.whl (167 kB)\n",
      "Downloading charset_normalizer-3.4.0-cp310-cp310-manylinux_2_17_x86_64.manylinux2014_x86_64.whl (144 kB)\n",
      "Downloading idna-3.10-py3-none-any.whl (70 kB)\n",
      "Downloading urllib3-2.2.3-py3-none-any.whl (126 kB)\n",
      "Installing collected packages: urllib3, idna, charset-normalizer, certifi, requests\n",
      "Successfully installed certifi-2024.8.30 charset-normalizer-3.4.0 idna-3.10 requests-2.32.3 urllib3-2.2.3\n",
      "Note: you may need to restart the kernel to use updated packages.\n"
     ]
    }
   ],
   "source": [
    "pip install requests"
   ]
  },
  {
   "cell_type": "code",
   "execution_count": 35,
   "metadata": {
    "colab": {
     "base_uri": "https://localhost:8080/",
     "height": 617
    },
    "id": "afforY9j93hV",
    "outputId": "3b886139-f3b4-4430-96af-4b881eef729f"
   },
   "outputs": [
    {
     "name": "stdout",
     "output_type": "stream",
     "text": [
      " Great! As a data scientist, you'll be excited to know that there are many opportunities for growth and learning in this field. Here's a recommendation:\n",
      "\n",
      "Explore Machine Learning Engineering: It's a subfield of data science that involves building predictive models using large datasets. You could learn about it and see if it interests you!\n"
     ]
    }
   ],
   "source": [
    "import requests\n",
    "import json\n",
    "full_response = []\n",
    "full_response = []\n",
    "prompt = \"\"\"\n",
    "You are a bot that makes recommendations for activities. You answer in very short sentences and do not include extra information.\n",
    "This is the recommended activity: {relevant_document}\n",
    "The user input is: {user_input}\n",
    "Compile a recommendation to the user based on the recommended activity and the user input.\n",
    "\"\"\"\n",
    "\n",
    "url = 'http://localhost:11434/api/generate'\n",
    "\n",
    "\n",
    "data = {\n",
    "    \"model\": \"llama2\",\n",
    "    \"prompt\": prompt.format(user_input=user_input, relevant_document=relevant_document)\n",
    "}\n",
    "\n",
    "headers = {'Content-Type': 'application/json'}\n",
    "\n",
    "response = requests.post(url, data=json.dumps(data), headers=headers, stream=True)\n",
    "\n",
    "\n",
    "try:\n",
    "    for line in response.iter_lines():\n",
    "        # filter out keep-alive new lines\n",
    "        if line:\n",
    "            decoded_line = json.loads(line.decode('utf-8'))\n",
    "            # print(decoded_line['response'])  # uncomment to results, token by token\n",
    "            full_response.append(decoded_line['response'])\n",
    "finally:\n",
    "    response.close()\n",
    "\n",
    "\n",
    "print(''.join(full_response))"
   ]
  },
  {
   "cell_type": "code",
   "execution_count": null,
   "metadata": {
    "id": "-S8kRtrrL_Z_"
   },
   "outputs": [],
   "source": []
  }
 ],
 "metadata": {
  "colab": {
   "provenance": []
  },
  "kernelspec": {
   "display_name": "credit_bureau",
   "language": "python",
   "name": "python3"
  },
  "language_info": {
   "codemirror_mode": {
    "name": "ipython",
    "version": 3
   },
   "file_extension": ".py",
   "mimetype": "text/x-python",
   "name": "python",
   "nbconvert_exporter": "python",
   "pygments_lexer": "ipython3",
   "version": "3.10.15"
  }
 },
 "nbformat": 4,
 "nbformat_minor": 0
}
